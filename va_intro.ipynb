{
 "cells": [
  {
   "cell_type": "markdown",
   "id": "6b0ebe78",
   "metadata": {},
   "source": [
    "# Trabajo de Visión Artificial\n",
    "\n",
    "## Dataset\n",
    "[Dataset de señales de tráfico - kaggle](https://www.kaggle.com/datasets/msalman97/dataset-for-traffic-sign-master-app/data)\n",
    "\n",
    "### Info obtenida del datacard\n",
    "Este conjunto de datos consiste en más de 60 señales de tráfico. El conjunto fue creado utilizando señales del **German Traffic Sign Recognition Benchmark Dataset**, señales recolectadas localmente, señales de distintos conjuntos de datos y imágenes de señales obtenidas de Internet. Las imágenes fueron aumentadas utilizando un script en Python.\n",
    "\n",
    "Las imágenes aumentadas se procesaron de la siguiente manera:\n",
    "\n",
    "**Redimensionamiento:** 32x32, 64x64, 128x128, 256x256\n",
    "\n",
    "**Reducción de brillo:** -60%\n",
    "\n",
    "**Aumento de brillo:** +60%\n",
    "\n",
    "**Desenfoque aplicado a:** imágenes de 128x128, 256x256 y originales\n",
    "\n",
    "**Niebla añadida a:** imágenes de 128x128, 256x256 y originales\n",
    "\n",
    "**Alteración de color:** brillo, contraste y color con valores de 1.8\n",
    "\n",
    "Después de la ampliación, las imágenes se renombran así:\n",
    "`[00000_00001_00012]`\n",
    "\n",
    "* `00000` corresponde a la clase\n",
    "\n",
    "* `00001` corresponde al lote de imágenes de la clase 0 (contiene 29 imágenes); después de 29 imágenes pasará a `[00002]`\n",
    "\n",
    "* `00012` indica el número de imágenes en una clase\n",
    "\n",
    "Este conjunto de datos se utiliza para entrenar un modelo **CNN personalizado** para la detección de imágenes e integrar el modelo entrenado en una aplicación móvil desarrollada en **Flutter**.\n",
    "\n",
    "Dentro de este conjunto de datos también hay una carpeta **Testing**, que se usa para probar y validar el modelo después del entrenamiento. Las imágenes de esta carpeta son nuevas, tomadas y recortadas de Internet.\n",
    "\n",
    "Si estás siguiendo mi proyecto en GitHub **Traffic-Sign-Master-App** y deseas usar este conjunto de datos en el código original, descárgalo y colócalo dentro de la carpeta **Backend**. Todas las clases de señales están listadas en el archivo **traffic_sign_classes.py**.\n",
    "\n",
    "Para el reconocimiento en tiempo real de señales de tráfico usando **Yolov5**, he creado un conjunto de datos que contiene imágenes etiquetadas de señales para detección.\n",
    "**Conjunto de datos Yolo:** [https://www.kaggle.com/datasets/msalman97/signs-dataset-yolov5format](https://www.kaggle.com/datasets/msalman97/signs-dataset-yolov5format)\n",
    "\n",
    "Si encuentras útil este conjunto de datos, por favor dame crédito visitando mi perfil de GitHub: [https://github.com/salman-97](https://github.com/salman-97). Sígueme para actualizaciones y explora mi repositorio completo para más proyectos y recursos. Tu apoyo significa mucho.\n"
   ]
  },
  {
   "cell_type": "code",
   "execution_count": 3,
   "id": "0e837f18",
   "metadata": {},
   "outputs": [
    {
     "name": "stdout",
     "output_type": "stream",
     "text": [
      ">>> Exploración del dataset <<<\n",
      "Directorio base: /mnt/c/Users/christianr/Downloads/archive/Traffic_dataset\n",
      "\n",
      "La ruta no existe, revisa el path.\n"
     ]
    }
   ],
   "source": [
    "import os\n",
    "from PIL import Image\n",
    "from collections import Counter\n",
    "import pandas as pd \n",
    "import os\n",
    "\n",
    "\n",
    "# Añadiendo basepath > Si se trabaja en colab hay que agregar un directorio\n",
    "dir_base = \"/mnt/c/Users/christianr/Downloads/archive/Traffic_dataset\" # Cambiar por la ruta local (Estoy usando WSL y un disco compartido)\n",
    "\n",
    "def resumen_dataset(dir_base, muestra=5):\n",
    "    print(\">>> Exploración del dataset <<<\")\n",
    "    print(\"Directorio base:\", dir_base)\n",
    "    print()\n",
    "\n",
    "    if not os.path.exists(dir_base):\n",
    "        print(\"La ruta no existe, revisa el path.\")\n",
    "        return\n",
    "\n",
    "    dim_cont = Counter()\n",
    "    res_clase = {}\n",
    "    directorios = ['Train', 'Test', 'Testing']\n",
    "\n",
    "    for directorio in directorios:\n",
    "        dir_path = os.path.join(dir_base, directorio)\n",
    "        if os.path.isdir(dir_path):\n",
    "            print(f\"\\nExplorando directorio: {directorio}\")\n",
    "            cont_imgs = 0\n",
    "            for root, _, archivos in os.walk(dir_path):\n",
    "                img_archivos = [f for f in archivos if f.lower().endswith(('.jpg','.jpeg','.png'))]\n",
    "                cont_imgs += len(img_archivos)\n",
    "            res_clase[directorio] = cont_imgs\n",
    "        else:\n",
    "            print(f\"\\nDirectorio '{directorio}' no encontrado en la ruta base.\")\n",
    "\n",
    "\n",
    "    # Resumen por directorio\n",
    "    print(\"\\n>>> Número de imágenes por directorio encontrado <<<\")\n",
    "    for cls, cont in res_clase.items():\n",
    "        print(f\"{cls}: {cont} imágenes\")\n",
    "\n",
    "# Ejecutar resumen \n",
    "resumen_dataset(dir_base)"
   ]
  },
  {
   "cell_type": "markdown",
   "id": "fd10df2d",
   "metadata": {},
   "source": [
    "Ahora, veamos solo los elementos del directorio \"Train\" que tiene clases bien definidas en subdirectorios"
   ]
  },
  {
   "cell_type": "code",
   "execution_count": 4,
   "id": "cc98650c",
   "metadata": {},
   "outputs": [
    {
     "ename": "ValueError",
     "evalue": "La dir_path '/mnt/c/Users/christianr/Downloads/archive/Traffic_dataset/Train' no es un directorio válido.",
     "output_type": "error",
     "traceback": [
      "\u001b[31m---------------------------------------------------------------------------\u001b[39m",
      "\u001b[31mValueError\u001b[39m                                Traceback (most recent call last)",
      "\u001b[36mCell\u001b[39m\u001b[36m \u001b[39m\u001b[32mIn[4]\u001b[39m\u001b[32m, line 18\u001b[39m\n\u001b[32m     15\u001b[39m     \u001b[38;5;66;03m#return conteo # Si se quiere diccionario\u001b[39;00m\n\u001b[32m     16\u001b[39m     \u001b[38;5;28;01mreturn\u001b[39;00m pd.DataFrame(\u001b[38;5;28mlist\u001b[39m(conteo.items()), columns=[\u001b[33m'\u001b[39m\u001b[33mclase\u001b[39m\u001b[33m'\u001b[39m, \u001b[33m'\u001b[39m\u001b[33minstancias\u001b[39m\u001b[33m'\u001b[39m])\n\u001b[32m---> \u001b[39m\u001b[32m18\u001b[39m \u001b[43mver_train_clases\u001b[49m\u001b[43m(\u001b[49m\u001b[43mdir_base\u001b[49m\u001b[43m+\u001b[49m\u001b[33;43m\"\u001b[39;49m\u001b[33;43m/Train\u001b[39;49m\u001b[33;43m\"\u001b[39;49m\u001b[43m)\u001b[49m\n",
      "\u001b[36mCell\u001b[39m\u001b[36m \u001b[39m\u001b[32mIn[4]\u001b[39m\u001b[32m, line 4\u001b[39m, in \u001b[36mver_train_clases\u001b[39m\u001b[34m(dir_path)\u001b[39m\n\u001b[32m      1\u001b[39m \u001b[38;5;28;01mdef\u001b[39;00m\u001b[38;5;250m \u001b[39m\u001b[34mver_train_clases\u001b[39m(dir_path):\n\u001b[32m      3\u001b[39m     \u001b[38;5;28;01mif\u001b[39;00m \u001b[38;5;129;01mnot\u001b[39;00m os.path.isdir(dir_path):\n\u001b[32m----> \u001b[39m\u001b[32m4\u001b[39m         \u001b[38;5;28;01mraise\u001b[39;00m \u001b[38;5;167;01mValueError\u001b[39;00m(\u001b[33mf\u001b[39m\u001b[33m\"\u001b[39m\u001b[33mLa dir_path \u001b[39m\u001b[33m'\u001b[39m\u001b[38;5;132;01m{\u001b[39;00mdir_path\u001b[38;5;132;01m}\u001b[39;00m\u001b[33m'\u001b[39m\u001b[33m no es un directorio válido.\u001b[39m\u001b[33m\"\u001b[39m)\n\u001b[32m      6\u001b[39m     subdirs = [d \u001b[38;5;28;01mfor\u001b[39;00m d \u001b[38;5;129;01min\u001b[39;00m os.listdir(dir_path) \u001b[38;5;28;01mif\u001b[39;00m os.path.isdir(os.path.join(dir_path, d))]\n\u001b[32m      7\u001b[39m     conteo = {}\n",
      "\u001b[31mValueError\u001b[39m: La dir_path '/mnt/c/Users/christianr/Downloads/archive/Traffic_dataset/Train' no es un directorio válido."
     ]
    }
   ],
   "source": [
    "def ver_train_clases(dir_path):\n",
    "   \n",
    "    if not os.path.isdir(dir_path):\n",
    "        raise ValueError(f\"La dir_path '{dir_path}' no es un directorio válido.\")\n",
    "\n",
    "    subdirs = [d for d in os.listdir(dir_path) if os.path.isdir(os.path.join(dir_path, d))]\n",
    "    conteo = {}\n",
    "\n",
    "    for subdir in subdirs:\n",
    "        dir_path_subdir = os.path.join(dir_path, subdir)\n",
    "        elementos = os.listdir(dir_path_subdir)\n",
    "        conteo[subdir] = len(elementos)\n",
    "\n",
    "    print(f\"Número total de clases: {len(subdirs)}\")\n",
    "    #return conteo # Si se quiere diccionario\n",
    "    return pd.DataFrame(list(conteo.items()), columns=['clase', 'instancias'])\n",
    "\n",
    "ver_train_clases(dir_base+\"/Train\")\n"
   ]
  },
  {
   "cell_type": "code",
   "execution_count": null,
   "id": "234cb4e4",
   "metadata": {},
   "outputs": [],
   "source": [
    "# en forma gráfica\n",
    "import matplotlib.pyplot as plt\n",
    "import os\n",
    "\n",
    "# Guardamos en una variable\n",
    "clases_train = ver_train_clases(os.path.join(dir_base, \"Train\"))\n",
    "clases_train['clase'] = clases_train['clase'].astype('int')\n",
    "clases_train = clases_train.sort_values(by='clase').reset_index(drop=True)\n",
    "#Graficamos\n",
    "plt.figure(figsize=(18,5))\n",
    "plt.bar(clases_train['clase'].astype(str), clases_train['instancias'])\n",
    "plt.title(\"Instancias y Clases del directorio Train\")\n",
    "plt.xlabel(\"Clase\")\n",
    "plt.ylabel(\"Instancias\")\n",
    "plt.grid(True, alpha = 0.5)\n",
    "plt.show()"
   ]
  },
  {
   "cell_type": "code",
   "execution_count": null,
   "id": "fa83eab5",
   "metadata": {},
   "outputs": [],
   "source": [
    "#Características básicas\n",
    "print(f\"Número mínimo de instancias: {clases_train['instancias'].min()}\")\n",
    "print(f\"Perteneciente a la clase: {clases_train['instancias'].idxmin()}\")\n",
    "print(f\"Número mínimo de instancias: {clases_train['instancias'].max()}\")\n",
    "print(f\"Perteneciente a la clase: {clases_train['instancias'].idxmax()}\")"
   ]
  },
  {
   "cell_type": "markdown",
   "id": "d50f26b4",
   "metadata": {},
   "source": [
    "**Existe alto desbalance entre las clases en el directorio de entrenamiento \"Train\"**\n",
    "\n",
    "Ahora, enfocándonos en los documentos CSV existentes:"
   ]
  },
  {
   "cell_type": "code",
   "execution_count": null,
   "id": "b18da76b",
   "metadata": {},
   "outputs": [],
   "source": [
    "# Leer el CSV de Train para ver detalles\n",
    "data_train = pd.read_csv(os.path.join(dir_base, \"train.csv\"))\n",
    "#Ordenando por clase\n",
    "data_train = data_train.sort_values(by=\"ClassId\")\n",
    "data_train.head()"
   ]
  },
  {
   "cell_type": "markdown",
   "id": "f8ef1d64",
   "metadata": {},
   "source": [
    "Al parecer, indica que solo una parte del dataset de entrenamiento está anotado \"annotation\" -> BoundingBox"
   ]
  },
  {
   "cell_type": "code",
   "execution_count": null,
   "id": "8ecf1e3a",
   "metadata": {},
   "outputs": [],
   "source": [
    "# Elementos que tienen BoundingBox\n",
    "print(\"Elementos con Annotation:\\n\", sorted(data_train[\"ClassId\"].unique().tolist()))\n",
    "print(f\"En total son {data_train[\"ClassId\"].unique().shape[0]}/{clases_train['clase'].shape[0]} con Annotation\")\n",
    "print(\"Elementos sin Annotation:\\n\", [x for x in clases_train['clase'].tolist() if x not in data_train[\"ClassId\"].tolist()])\n",
    "print(f\"En total son {len([x for x in clases_train['clase'].tolist() if x not in data_train[\"ClassId\"].tolist()])}/{clases_train['clase'].shape[0]} sin Annotation\")\n"
   ]
  },
  {
   "cell_type": "code",
   "execution_count": null,
   "id": "907875f0",
   "metadata": {},
   "outputs": [],
   "source": [
    "# Analizando cúantos elementos tiene cada uno\n",
    "print(\"Elementos por clase con Annotation: \")\n",
    "print(data_train[\"ClassId\"].value_counts().sort_index())"
   ]
  },
  {
   "cell_type": "code",
   "execution_count": null,
   "id": "757aa02c",
   "metadata": {},
   "outputs": [],
   "source": [
    "data_train[\"ClassId\"].value_counts().sort_index()"
   ]
  },
  {
   "cell_type": "code",
   "execution_count": null,
   "id": "6d4da9b3",
   "metadata": {},
   "outputs": [],
   "source": [
    "\n",
    "#Graficamos\n",
    "plt.figure(figsize=(18,5))\n",
    "plt.bar(data_train[\"ClassId\"].value_counts().sort_index().index.astype(str), data_train[\"ClassId\"].value_counts().sort_index())\n",
    "plt.title(\"Instancias y Clases Anotadas del CSV Train\")\n",
    "plt.xlabel(\"Clase\")\n",
    "plt.ylabel(\"Instancias\")\n",
    "plt.grid(True, alpha = 0.5)\n",
    "plt.show()"
   ]
  },
  {
   "cell_type": "code",
   "execution_count": null,
   "id": "bdc73611",
   "metadata": {},
   "outputs": [],
   "source": [
    "#elementos máximos y mínimos\n",
    "#Características básicas\n",
    "print(f\"Número mínimo de instancias: {data_train['ClassId'].value_counts().min()}\")\n",
    "print(f\"Perteneciente a la clase: {data_train['ClassId'].value_counts().idxmin()}\")\n",
    "print(f\"Número mínimo de instancias: {data_train['ClassId'].value_counts().max()}\")\n",
    "print(f\"Perteneciente a la clase: {data_train['ClassId'].value_counts().idxmax()}\")"
   ]
  },
  {
   "cell_type": "code",
   "execution_count": null,
   "id": "191b31b9",
   "metadata": {},
   "outputs": [],
   "source": [
    "\n",
    "#Graficamos CSV vs Directorio\n",
    "plt.figure(figsize=(18,5))\n",
    "plt.bar(clases_train['clase'].iloc[0:43].astype(str), clases_train['instancias'].iloc[0:43], alpha = 0.8, label=\"directorio Train\")\n",
    "plt.bar(data_train[\"ClassId\"].value_counts().sort_index().index.astype(str), data_train[\"ClassId\"].value_counts().sort_index(), alpha = 0.8, label = \"CSV Train\")\n",
    "plt.title(\"Comparación de instancias anotadas y sin anotar de Train\")\n",
    "plt.xlabel(\"Clase\")\n",
    "plt.ylabel(\"Instancias\")\n",
    "plt.legend(loc=\"upper right\")\n",
    "plt.grid(True, alpha = 0.5)\n",
    "plt.show()"
   ]
  },
  {
   "cell_type": "markdown",
   "id": "d6f5ce1f",
   "metadata": {},
   "source": [
    "**Hay imbalance de clases en los datos anotados para el entrenamiento**"
   ]
  },
  {
   "cell_type": "markdown",
   "id": "bffa6092",
   "metadata": {},
   "source": [
    "## Info encontrada\n",
    "- En el dataset existen 3 directorios: Train, Test y Testing. Se tiene en cada uno:\n",
    "    Train: $78532$ imágenes (con $63$ subdirectorios - clases)\n",
    "    Test: $3625$ imágenes (sin subdirectorios)\n",
    "    Testing: $139$ imágenes (sin subdirectorios)\n",
    "- En Train, existen $63$ clases de señales de tránsito, con variabilidad de muestras, desde $209$ hasta $2919$, teniendo valor mínimo y máximo en las clases $44$ y $2$, respectivamente.\n",
    "- En el CSV de train existen $43$ clases con Annotations con un valor mínimo de instancias de $210$, pertenecientes a la clase $0$."
   ]
  },
  {
   "cell_type": "markdown",
   "id": "9def4dbf",
   "metadata": {},
   "source": [
    "## Selección de imágenes para trabajar\n",
    "Usando la info encontrada, vamos a seleccionar un mismo número de imágenes por clase en Train para trabajar"
   ]
  },
  {
   "cell_type": "code",
   "execution_count": null,
   "id": "56aaf489",
   "metadata": {},
   "outputs": [],
   "source": [
    "import random\n",
    "\n",
    "def seleccionar_imagenes_aleatorias(dir_train, num_imagenes_por_clase, semilla=2212):\n",
    "    \"\"\"\n",
    "    Selecciona un número aleatorio de imágenes de cada subdirectorio (clase)\n",
    "    en el directorio de entrenamiento especificado.\n",
    "\n",
    "    Args:\n",
    "        dir_train (str): La ruta al directorio 'Train'.\n",
    "        num_imagenes_por_clase (int): El número de imágenes a seleccionar de cada clase.\n",
    "        semilla (int): La semilla para el generador de números aleatorios para reproducibilidad.\n",
    "\n",
    "    Returns:\n",
    "        dict: Un diccionario donde las claves son los nombres de las clases (subdirectorios)\n",
    "              y los valores son listas de rutas a las imágenes seleccionadas.\n",
    "    \"\"\"\n",
    "    random.seed(semilla)\n",
    "    imagenes_seleccionadas = {}\n",
    "    \n",
    "    if not os.path.isdir(dir_train):\n",
    "        print(f\"Error: El directorio '{dir_train}' no existe.\")\n",
    "        return imagenes_seleccionadas\n",
    "\n",
    "    for clase_dir in sorted(os.listdir(dir_train)):\n",
    "        path_clase = os.path.join(dir_train, clase_dir)\n",
    "        \n",
    "        if os.path.isdir(path_clase):\n",
    "            archivos_img = [f for f in os.listdir(path_clase) if f.lower().endswith(('.png', '.jpg', '.jpeg'))]\n",
    "            \n",
    "            if len(archivos_img) < num_imagenes_por_clase:\n",
    "                # Si hay menos imágenes que las solicitadas, se toman todas\n",
    "                seleccion = archivos_img\n",
    "            else:\n",
    "                # Selecciona aleatoriamente el número de imágenes especificado\n",
    "                seleccion = random.sample(archivos_img, num_imagenes_por_clase)\n",
    "            \n",
    "            # Almacena las rutas completas de las imágenes seleccionadas\n",
    "            imagenes_seleccionadas[clase_dir] = [os.path.join(path_clase, img) for img in seleccion]\n",
    "            \n",
    "    return imagenes_seleccionadas\n",
    "\n",
    "# Seleccionamos 5 imágenes por cada clase del directorio Train\n",
    "dir_entrenamiento = os.path.join(dir_base, \"Train\")\n",
    "muestra_imagenes = seleccionar_imagenes_aleatorias(dir_entrenamiento, num_imagenes_por_clase=5, semilla=2212)\n",
    "# Habría que cambiar al número mínimo instancias existentes > Revisar Info encontrada\n",
    "\n",
    "# Imprimir una muestra del resultado para verificar\n",
    "print(f\"Se seleccionaron imágenes de {len(muestra_imagenes)} clases.\")\n",
    "print(\"Ejemplo para la clase '0':\")\n",
    "for ruta_img in muestra_imagenes.get('0', []):\n",
    "    print(ruta_img)\n",
    "\n",
    "print(\"\\nEjemplo para la clase '10':\")\n",
    "for ruta_img in muestra_imagenes.get('10', []):\n",
    "    print(ruta_img)"
   ]
  },
  {
   "cell_type": "code",
   "execution_count": null,
   "id": "122a0e36",
   "metadata": {},
   "outputs": [],
   "source": []
  }
 ],
 "metadata": {
  "kernelspec": {
   "display_name": ".venv",
   "language": "python",
   "name": "python3"
  },
  "language_info": {
   "codemirror_mode": {
    "name": "ipython",
    "version": 3
   },
   "file_extension": ".py",
   "mimetype": "text/x-python",
   "name": "python",
   "nbconvert_exporter": "python",
   "pygments_lexer": "ipython3",
   "version": "3.12.3"
  }
 },
 "nbformat": 4,
 "nbformat_minor": 5
}
