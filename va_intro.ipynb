{
 "cells": [
  {
   "cell_type": "markdown",
   "id": "6b0ebe78",
   "metadata": {},
   "source": [
    "# Trabajo de Visión Artificial\n",
    "\n",
    "## Dataset\n",
    "[Dataset de señales de tráfico - kaggle](https://www.kaggle.com/datasets/msalman97/dataset-for-traffic-sign-master-app/data)\n",
    "\n",
    "### Info obtenida del datacard\n",
    "Este conjunto de datos consiste en más de 60 señales de tráfico. El conjunto fue creado utilizando señales del **German Traffic Sign Recognition Benchmark Dataset**, señales recolectadas localmente, señales de distintos conjuntos de datos y imágenes de señales obtenidas de Internet. Las imágenes fueron aumentadas utilizando un script en Python.\n",
    "\n",
    "Las imágenes aumentadas se procesaron de la siguiente manera:\n",
    "\n",
    "**Redimensionamiento:** 32x32, 64x64, 128x128, 256x256\n",
    "\n",
    "**Reducción de brillo:** -60%\n",
    "\n",
    "**Aumento de brillo:** +60%\n",
    "\n",
    "**Desenfoque aplicado a:** imágenes de 128x128, 256x256 y originales\n",
    "\n",
    "**Niebla añadida a:** imágenes de 128x128, 256x256 y originales\n",
    "\n",
    "**Alteración de color:** brillo, contraste y color con valores de 1.8\n",
    "\n",
    "Después de la ampliación, las imágenes se renombran así:\n",
    "`[00000_00001_00012]`\n",
    "\n",
    "* `00000` corresponde a la clase\n",
    "\n",
    "* `00001` corresponde al lote de imágenes de la clase 0 (contiene 29 imágenes); después de 29 imágenes pasará a `[00002]`\n",
    "\n",
    "* `00012` indica el número de imágenes en una clase\n",
    "\n",
    "Este conjunto de datos se utiliza para entrenar un modelo **CNN personalizado** para la detección de imágenes e integrar el modelo entrenado en una aplicación móvil desarrollada en **Flutter**.\n",
    "\n",
    "Dentro de este conjunto de datos también hay una carpeta **Testing**, que se usa para probar y validar el modelo después del entrenamiento. Las imágenes de esta carpeta son nuevas, tomadas y recortadas de Internet.\n",
    "\n",
    "Si estás siguiendo mi proyecto en GitHub **Traffic-Sign-Master-App** y deseas usar este conjunto de datos en el código original, descárgalo y colócalo dentro de la carpeta **Backend**. Todas las clases de señales están listadas en el archivo **traffic_sign_classes.py**.\n",
    "\n",
    "Para el reconocimiento en tiempo real de señales de tráfico usando **Yolov5**, he creado un conjunto de datos que contiene imágenes etiquetadas de señales para detección.\n",
    "**Conjunto de datos Yolo:** [https://www.kaggle.com/datasets/msalman97/signs-dataset-yolov5format](https://www.kaggle.com/datasets/msalman97/signs-dataset-yolov5format)\n",
    "\n",
    "Si encuentras útil este conjunto de datos, por favor dame crédito visitando mi perfil de GitHub: [https://github.com/salman-97](https://github.com/salman-97). Sígueme para actualizaciones y explora mi repositorio completo para más proyectos y recursos. Tu apoyo significa mucho.\n"
   ]
  },
  {
   "cell_type": "code",
   "execution_count": 129,
   "id": "0e837f18",
   "metadata": {},
   "outputs": [
    {
     "name": "stdout",
     "output_type": "stream",
     "text": [
      ">>> Exploración del dataset <<<\n",
      "Directorio base: /mnt/c/Users/christianr/Downloads/archive/Traffic_dataset\n",
      "\n",
      "\n",
      "Explorando directorio: Train\n",
      "\n",
      "Explorando directorio: Test\n",
      "\n",
      "Explorando directorio: Testing\n",
      "\n",
      ">>> Número de imágenes por directorio encontrado <<<\n",
      "Train: 78532 imágenes\n",
      "Test: 3625 imágenes\n",
      "Testing: 139 imágenes\n"
     ]
    }
   ],
   "source": [
    "import os\n",
    "from PIL import Image\n",
    "from collections import Counter\n",
    "import pandas as pd \n",
    "import os\n",
    "\n",
    "\n",
    "# Añadiendo basepath > Si se trabaja en colab hay que agregar un directorio\n",
    "dir_base = \"/mnt/c/Users/christianr/Downloads/archive/Traffic_dataset\" # Cambiar por la ruta local (Estoy usando WSL y un disco compartido)\n",
    "\n",
    "def resumen_dataset(dir_base, muestra=5):\n",
    "    print(\">>> Exploración del dataset <<<\")\n",
    "    print(\"Directorio base:\", dir_base)\n",
    "    print()\n",
    "\n",
    "    if not os.path.exists(dir_base):\n",
    "        print(\"La ruta no existe, revisa el path.\")\n",
    "        return\n",
    "\n",
    "    dim_cont = Counter()\n",
    "    res_clase = {}\n",
    "    directorios = ['Train', 'Test', 'Testing']\n",
    "\n",
    "    for directorio in directorios:\n",
    "        dir_path = os.path.join(dir_base, directorio)\n",
    "        if os.path.isdir(dir_path):\n",
    "            print(f\"\\nExplorando directorio: {directorio}\")\n",
    "            cont_imgs = 0\n",
    "            for root, _, archivos in os.walk(dir_path):\n",
    "                img_archivos = [f for f in archivos if f.lower().endswith(('.jpg','.jpeg','.png'))]\n",
    "                cont_imgs += len(img_archivos)\n",
    "            res_clase[directorio] = cont_imgs\n",
    "        else:\n",
    "            print(f\"\\nDirectorio '{directorio}' no encontrado en la ruta base.\")\n",
    "\n",
    "\n",
    "    # Resumen por directorio\n",
    "    print(\"\\n>>> Número de imágenes por directorio encontrado <<<\")\n",
    "    for cls, cont in res_clase.items():\n",
    "        print(f\"{cls}: {cont} imágenes\")\n",
    "\n",
    "# Ejecutar resumen \n",
    "resumen_dataset(dir_base)"
   ]
  },
  {
   "cell_type": "markdown",
   "id": "fd10df2d",
   "metadata": {},
   "source": [
    "Ahora, veamos solo los elementos del directorio \"Train\" que tiene clases bien definidas en subdirectorios"
   ]
  },
  {
   "cell_type": "code",
   "execution_count": 130,
   "id": "cc98650c",
   "metadata": {},
   "outputs": [
    {
     "name": "stdout",
     "output_type": "stream",
     "text": [
      "Número total de clases: 63\n"
     ]
    },
    {
     "data": {
      "text/html": [
       "<div>\n",
       "<style scoped>\n",
       "    .dataframe tbody tr th:only-of-type {\n",
       "        vertical-align: middle;\n",
       "    }\n",
       "\n",
       "    .dataframe tbody tr th {\n",
       "        vertical-align: top;\n",
       "    }\n",
       "\n",
       "    .dataframe thead th {\n",
       "        text-align: right;\n",
       "    }\n",
       "</style>\n",
       "<table border=\"1\" class=\"dataframe\">\n",
       "  <thead>\n",
       "    <tr style=\"text-align: right;\">\n",
       "      <th></th>\n",
       "      <th>clase</th>\n",
       "      <th>instancias</th>\n",
       "    </tr>\n",
       "  </thead>\n",
       "  <tbody>\n",
       "    <tr>\n",
       "      <th>0</th>\n",
       "      <td>0</td>\n",
       "      <td>935</td>\n",
       "    </tr>\n",
       "    <tr>\n",
       "      <th>1</th>\n",
       "      <td>1</td>\n",
       "      <td>2858</td>\n",
       "    </tr>\n",
       "    <tr>\n",
       "      <th>2</th>\n",
       "      <td>10</td>\n",
       "      <td>2300</td>\n",
       "    </tr>\n",
       "    <tr>\n",
       "      <th>3</th>\n",
       "      <td>11</td>\n",
       "      <td>1697</td>\n",
       "    </tr>\n",
       "    <tr>\n",
       "      <th>4</th>\n",
       "      <td>12</td>\n",
       "      <td>2390</td>\n",
       "    </tr>\n",
       "    <tr>\n",
       "      <th>...</th>\n",
       "      <td>...</td>\n",
       "      <td>...</td>\n",
       "    </tr>\n",
       "    <tr>\n",
       "      <th>58</th>\n",
       "      <td>61</td>\n",
       "      <td>919</td>\n",
       "    </tr>\n",
       "    <tr>\n",
       "      <th>59</th>\n",
       "      <td>62</td>\n",
       "      <td>1160</td>\n",
       "    </tr>\n",
       "    <tr>\n",
       "      <th>60</th>\n",
       "      <td>7</td>\n",
       "      <td>2281</td>\n",
       "    </tr>\n",
       "    <tr>\n",
       "      <th>61</th>\n",
       "      <td>8</td>\n",
       "      <td>2135</td>\n",
       "    </tr>\n",
       "    <tr>\n",
       "      <th>62</th>\n",
       "      <td>9</td>\n",
       "      <td>2081</td>\n",
       "    </tr>\n",
       "  </tbody>\n",
       "</table>\n",
       "<p>63 rows × 2 columns</p>\n",
       "</div>"
      ],
      "text/plain": [
       "   clase  instancias\n",
       "0      0         935\n",
       "1      1        2858\n",
       "2     10        2300\n",
       "3     11        1697\n",
       "4     12        2390\n",
       "..   ...         ...\n",
       "58    61         919\n",
       "59    62        1160\n",
       "60     7        2281\n",
       "61     8        2135\n",
       "62     9        2081\n",
       "\n",
       "[63 rows x 2 columns]"
      ]
     },
     "execution_count": 130,
     "metadata": {},
     "output_type": "execute_result"
    }
   ],
   "source": [
    "def ver_train_clases(dir_path):\n",
    "   \n",
    "    if not os.path.isdir(dir_path):\n",
    "        raise ValueError(f\"La dir_path '{dir_path}' no es un directorio válido.\")\n",
    "\n",
    "    subdirs = [d for d in os.listdir(dir_path) if os.path.isdir(os.path.join(dir_path, d))]\n",
    "    conteo = {}\n",
    "\n",
    "    for subdir in subdirs:\n",
    "        dir_path_subdir = os.path.join(dir_path, subdir)\n",
    "        elementos = os.listdir(dir_path_subdir)\n",
    "        conteo[subdir] = len(elementos)\n",
    "\n",
    "    print(f\"Número total de clases: {len(subdirs)}\")\n",
    "    #return conteo # Si se quiere diccionario\n",
    "    return pd.DataFrame(list(conteo.items()), columns=['clase', 'instancias'])\n",
    "\n",
    "ver_train_clases(dir_base+\"/Train\")\n"
   ]
  },
  {
   "cell_type": "code",
   "execution_count": 131,
   "id": "234cb4e4",
   "metadata": {},
   "outputs": [
    {
     "name": "stdout",
     "output_type": "stream",
     "text": [
      "Número total de clases: 63\n"
     ]
    },
    {
     "data": {
      "image/png": "[encoded data removed]",
      "text/plain": [
       "<Figure size 1800x500 with 1 Axes>"
      ]
     },
     "metadata": {},
     "output_type": "display_data"
    }
   ],
   "source": [
    "# en forma gráfica\n",
    "import matplotlib.pyplot as plt\n",
    "import os\n",
    "\n",
    "# Guardamos en una variable\n",
    "clases_train = ver_train_clases(os.path.join(dir_base, \"Train\"))\n",
    "clases_train['clase'] = clases_train['clase'].astype('int')\n",
    "clases_train = clases_train.sort_values(by='clase').reset_index(drop=True)\n",
    "#Graficamos\n",
    "plt.figure(figsize=(18,5))\n",
    "plt.bar(clases_train['clase'].astype(str), clases_train['instancias'])\n",
    "plt.title(\"Instancias y Clases del directorio Train\")\n",
    "plt.xlabel(\"Clase\")\n",
    "plt.ylabel(\"Instancias\")\n",
    "plt.grid(True, alpha = 0.5)\n",
    "plt.show()"
   ]
  },
  {
   "cell_type": "code",
   "execution_count": 132,
   "id": "fa83eab5",
   "metadata": {},
   "outputs": [
    {
     "name": "stdout",
     "output_type": "stream",
     "text": [
      "Número mínimo de instancias: 209\n",
      "Perteneciente a la clase: 44\n",
      "Número mínimo de instancias: 2919\n",
      "Perteneciente a la clase: 2\n"
     ]
    }
   ],
   "source": [
    "#Características básicas\n",
    "print(f\"Número mínimo de instancias: {clases_train['instancias'].min()}\")\n",
    "print(f\"Perteneciente a la clase: {clases_train['instancias'].idxmin()}\")\n",
    "print(f\"Número mínimo de instancias: {clases_train['instancias'].max()}\")\n",
    "print(f\"Perteneciente a la clase: {clases_train['instancias'].idxmax()}\")"
   ]
  },
  {
   "cell_type": "markdown",
   "id": "d50f26b4",
   "metadata": {},
   "source": [
    "**Existe alto desbalance entre las clases en el directorio de entrenamiento \"Train\"**\n",
    "\n",
    "Ahora, enfocándonos en los documentos CSV existentes:"
   ]
  },
  {
   "cell_type": "code",
   "execution_count": 133,
   "id": "b18da76b",
   "metadata": {},
   "outputs": [
    {
     "data": {
      "text/html": [
       "<div>\n",
       "<style scoped>\n",
       "    .dataframe tbody tr th:only-of-type {\n",
       "        vertical-align: middle;\n",
       "    }\n",
       "\n",
       "    .dataframe tbody tr th {\n",
       "        vertical-align: top;\n",
       "    }\n",
       "\n",
       "    .dataframe thead th {\n",
       "        text-align: right;\n",
       "    }\n",
       "</style>\n",
       "<table border=\"1\" class=\"dataframe\">\n",
       "  <thead>\n",
       "    <tr style=\"text-align: right;\">\n",
       "      <th></th>\n",
       "      <th>Width</th>\n",
       "      <th>Height</th>\n",
       "      <th>Roi.X1</th>\n",
       "      <th>Roi.Y1</th>\n",
       "      <th>Roi.X2</th>\n",
       "      <th>Roi.Y2</th>\n",
       "      <th>ClassId</th>\n",
       "      <th>Path</th>\n",
       "    </tr>\n",
       "  </thead>\n",
       "  <tbody>\n",
       "    <tr>\n",
       "      <th>568</th>\n",
       "      <td>105</td>\n",
       "      <td>109</td>\n",
       "      <td>9</td>\n",
       "      <td>10</td>\n",
       "      <td>95</td>\n",
       "      <td>100</td>\n",
       "      <td>0</td>\n",
       "      <td>Train/0/00000_00006_00028.png</td>\n",
       "    </tr>\n",
       "    <tr>\n",
       "      <th>569</th>\n",
       "      <td>112</td>\n",
       "      <td>118</td>\n",
       "      <td>10</td>\n",
       "      <td>11</td>\n",
       "      <td>103</td>\n",
       "      <td>108</td>\n",
       "      <td>0</td>\n",
       "      <td>Train/0/00000_00006_00029.png</td>\n",
       "    </tr>\n",
       "    <tr>\n",
       "      <th>552</th>\n",
       "      <td>46</td>\n",
       "      <td>49</td>\n",
       "      <td>5</td>\n",
       "      <td>6</td>\n",
       "      <td>41</td>\n",
       "      <td>44</td>\n",
       "      <td>0</td>\n",
       "      <td>Train/0/00000_00006_00012.png</td>\n",
       "    </tr>\n",
       "    <tr>\n",
       "      <th>553</th>\n",
       "      <td>48</td>\n",
       "      <td>51</td>\n",
       "      <td>6</td>\n",
       "      <td>6</td>\n",
       "      <td>43</td>\n",
       "      <td>45</td>\n",
       "      <td>0</td>\n",
       "      <td>Train/0/00000_00006_00013.png</td>\n",
       "    </tr>\n",
       "    <tr>\n",
       "      <th>554</th>\n",
       "      <td>50</td>\n",
       "      <td>53</td>\n",
       "      <td>5</td>\n",
       "      <td>6</td>\n",
       "      <td>45</td>\n",
       "      <td>48</td>\n",
       "      <td>0</td>\n",
       "      <td>Train/0/00000_00006_00014.png</td>\n",
       "    </tr>\n",
       "  </tbody>\n",
       "</table>\n",
       "</div>"
      ],
      "text/plain": [
       "     Width  Height  Roi.X1  Roi.Y1  Roi.X2  Roi.Y2  ClassId  \\\n",
       "568    105     109       9      10      95     100        0   \n",
       "569    112     118      10      11     103     108        0   \n",
       "552     46      49       5       6      41      44        0   \n",
       "553     48      51       6       6      43      45        0   \n",
       "554     50      53       5       6      45      48        0   \n",
       "\n",
       "                              Path  \n",
       "568  Train/0/00000_00006_00028.png  \n",
       "569  Train/0/00000_00006_00029.png  \n",
       "552  Train/0/00000_00006_00012.png  \n",
       "553  Train/0/00000_00006_00013.png  \n",
       "554  Train/0/00000_00006_00014.png  "
      ]
     },
     "execution_count": 133,
     "metadata": {},
     "output_type": "execute_result"
    }
   ],
   "source": [
    "# Leer el CSV de Train para ver detalles\n",
    "data_train = pd.read_csv(os.path.join(dir_base, \"train.csv\"))\n",
    "#Ordenando por clase\n",
    "data_train = data_train.sort_values(by=\"ClassId\")\n",
    "data_train.head()"
   ]
  },
  {
   "cell_type": "markdown",
   "id": "f8ef1d64",
   "metadata": {},
   "source": [
    "Al parecer, indica que solo una parte del dataset de entrenamiento está anotado \"annotation\" -> BoundingBox"
   ]
  },
  {
   "cell_type": "code",
   "execution_count": 134,
   "id": "8ecf1e3a",
   "metadata": {},
   "outputs": [
    {
     "name": "stdout",
     "output_type": "stream",
     "text": [
      "Elementos con Annotation:\n",
      " [0, 1, 2, 3, 4, 5, 6, 7, 8, 9, 10, 11, 12, 13, 14, 15, 16, 17, 18, 19, 20, 21, 22, 23, 24, 25, 26, 27, 28, 29, 30, 31, 32, 33, 34, 35, 36, 37, 38, 39, 40, 41, 42]\n",
      "En total son 43/63 con Annotation\n",
      "Elementos sin Annotation:\n",
      " [43, 44, 45, 46, 47, 48, 49, 50, 51, 52, 53, 54, 55, 56, 57, 58, 59, 60, 61, 62]\n",
      "En total son 20/63 sin Annotation\n"
     ]
    }
   ],
   "source": [
    "# Elementos que tienen BoundingBox\n",
    "print(\"Elementos con Annotation:\\n\", sorted(data_train[\"ClassId\"].unique().tolist()))\n",
    "print(f\"En total son {data_train[\"ClassId\"].unique().shape[0]}/{clases_train['clase'].shape[0]} con Annotation\")\n",
    "print(\"Elementos sin Annotation:\\n\", [x for x in clases_train['clase'].tolist() if x not in data_train[\"ClassId\"].tolist()])\n",
    "print(f\"En total son {len([x for x in clases_train['clase'].tolist() if x not in data_train[\"ClassId\"].tolist()])}/{clases_train['clase'].shape[0]} sin Annotation\")\n"
   ]
  },
  {
   "cell_type": "code",
   "execution_count": 135,
   "id": "907875f0",
   "metadata": {},
   "outputs": [
    {
     "name": "stdout",
     "output_type": "stream",
     "text": [
      "Elementos por clase con Annotation: \n",
      "ClassId\n",
      "0      210\n",
      "1     2220\n",
      "2     2250\n",
      "3     1410\n",
      "4     1980\n",
      "5     1860\n",
      "6      420\n",
      "7     1440\n",
      "8     1410\n",
      "9     1470\n",
      "10    2010\n",
      "11    1320\n",
      "12    2100\n",
      "13    2160\n",
      "14     780\n",
      "15     630\n",
      "16     420\n",
      "17    1110\n",
      "18    1200\n",
      "19     210\n",
      "20     360\n",
      "21     330\n",
      "22     390\n",
      "23     510\n",
      "24     270\n",
      "25    1500\n",
      "26     600\n",
      "27     240\n",
      "28     540\n",
      "29     270\n",
      "30     450\n",
      "31     780\n",
      "32     240\n",
      "33     689\n",
      "34     420\n",
      "35    1200\n",
      "36     390\n",
      "37     210\n",
      "38    2070\n",
      "39     300\n",
      "40     360\n",
      "41     240\n",
      "42     240\n",
      "Name: count, dtype: int64\n"
     ]
    }
   ],
   "source": [
    "# Analizando cúantos elementos tiene cada uno\n",
    "print(\"Elementos por clase con Annotation: \")\n",
    "print(data_train[\"ClassId\"].value_counts().sort_index())"
   ]
  },
  {
   "cell_type": "code",
   "execution_count": 136,
   "id": "757aa02c",
   "metadata": {},
   "outputs": [
    {
     "data": {
      "text/plain": [
       "ClassId\n",
       "0      210\n",
       "1     2220\n",
       "2     2250\n",
       "3     1410\n",
       "4     1980\n",
       "5     1860\n",
       "6      420\n",
       "7     1440\n",
       "8     1410\n",
       "9     1470\n",
       "10    2010\n",
       "11    1320\n",
       "12    2100\n",
       "13    2160\n",
       "14     780\n",
       "15     630\n",
       "16     420\n",
       "17    1110\n",
       "18    1200\n",
       "19     210\n",
       "20     360\n",
       "21     330\n",
       "22     390\n",
       "23     510\n",
       "24     270\n",
       "25    1500\n",
       "26     600\n",
       "27     240\n",
       "28     540\n",
       "29     270\n",
       "30     450\n",
       "31     780\n",
       "32     240\n",
       "33     689\n",
       "34     420\n",
       "35    1200\n",
       "36     390\n",
       "37     210\n",
       "38    2070\n",
       "39     300\n",
       "40     360\n",
       "41     240\n",
       "42     240\n",
       "Name: count, dtype: int64"
      ]
     },
     "execution_count": 136,
     "metadata": {},
     "output_type": "execute_result"
    }
   ],
   "source": [
    "data_train[\"ClassId\"].value_counts().sort_index()"
   ]
  },
  {
   "cell_type": "code",
   "execution_count": 137,
   "id": "6d4da9b3",
   "metadata": {},
   "outputs": [
    {
     "data": {
      "image/png": "[encoded data removed]",
      "text/plain": [
       "<Figure size 1800x500 with 1 Axes>"
      ]
     },
     "metadata": {},
     "output_type": "display_data"
    }
   ],
   "source": [
    "\n",
    "#Graficamos\n",
    "plt.figure(figsize=(18,5))\n",
    "plt.bar(data_train[\"ClassId\"].value_counts().sort_index().index.astype(str), data_train[\"ClassId\"].value_counts().sort_index())\n",
    "plt.title(\"Instancias y Clases Anotadas del CSV Train\")\n",
    "plt.xlabel(\"Clase\")\n",
    "plt.ylabel(\"Instancias\")\n",
    "plt.grid(True, alpha = 0.5)\n",
    "plt.show()"
   ]
  },
  {
   "cell_type": "code",
   "execution_count": 138,
   "id": "bdc73611",
   "metadata": {},
   "outputs": [
    {
     "name": "stdout",
     "output_type": "stream",
     "text": [
      "Número mínimo de instancias: 210\n",
      "Perteneciente a la clase: 0\n",
      "Número mínimo de instancias: 2250\n",
      "Perteneciente a la clase: 2\n"
     ]
    }
   ],
   "source": [
    "#elementos máximos y mínimos\n",
    "#Características básicas\n",
    "print(f\"Número mínimo de instancias: {data_train['ClassId'].value_counts().min()}\")\n",
    "print(f\"Perteneciente a la clase: {data_train['ClassId'].value_counts().idxmin()}\")\n",
    "print(f\"Número mínimo de instancias: {data_train['ClassId'].value_counts().max()}\")\n",
    "print(f\"Perteneciente a la clase: {data_train['ClassId'].value_counts().idxmax()}\")"
   ]
  },
  {
   "cell_type": "code",
   "execution_count": 139,
   "id": "191b31b9",
   "metadata": {},
   "outputs": [
    {
     "data": {
      "image/png": "[encoded data removed]",
      "text/plain": [
       "<Figure size 1800x500 with 1 Axes>"
      ]
     },
     "metadata": {},
     "output_type": "display_data"
    }
   ],
   "source": [
    "\n",
    "#Graficamos CSV vs Directorio\n",
    "plt.figure(figsize=(18,5))\n",
    "plt.bar(clases_train['clase'].iloc[0:43].astype(str), clases_train['instancias'].iloc[0:43], alpha = 0.8, label=\"directorio Train\")\n",
    "plt.bar(data_train[\"ClassId\"].value_counts().sort_index().index.astype(str), data_train[\"ClassId\"].value_counts().sort_index(), alpha = 0.8, label = \"CSV Train\")\n",
    "plt.title(\"Comparación de instancias anotadas y sin anotar de Train\")\n",
    "plt.xlabel(\"Clase\")\n",
    "plt.ylabel(\"Instancias\")\n",
    "plt.legend(loc=\"upper right\")\n",
    "plt.grid(True, alpha = 0.5)\n",
    "plt.show()"
   ]
  },
  {
   "cell_type": "markdown",
   "id": "d6f5ce1f",
   "metadata": {},
   "source": [
    "**Hay imbalance de clases en los datos anotados para el entrenamiento**"
   ]
  },
  {
   "cell_type": "markdown",
   "id": "bffa6092",
   "metadata": {},
   "source": [
    "## Info encontrada\n",
    "- En el dataset existen 3 directorios: Train, Test y Testing. Se tiene en cada uno:\n",
    "    Train: $78532$ imágenes (con $63$ subdirectorios - clases)\n",
    "    Test: $3625$ imágenes (sin subdirectorios)\n",
    "    Testing: $139$ imágenes (sin subdirectorios)\n",
    "- En Train, existen $63$ clases de señales de tránsito, con variabilidad de muestras, desde $209$ hasta $2919$, teniendo valor mínimo y máximo en las clases $44$ y $2$, respectivamente.\n",
    "- En el CSV de train existen $43$ clases con Annotations con un valor mínimo de instancias de $210$, pertenecientes a la clase $0$."
   ]
  },
  {
   "cell_type": "markdown",
   "id": "9def4dbf",
   "metadata": {},
   "source": [
    "## Selección de imágenes para trabajar\n",
    "Usando la info encontrada, vamos a seleccionar un mismo número de imágenes por clase en Train para trabajar"
   ]
  },
  {
   "cell_type": "code",
   "execution_count": 140,
   "id": "56aaf489",
   "metadata": {},
   "outputs": [
    {
     "name": "stdout",
     "output_type": "stream",
     "text": [
      "Se seleccionaron imágenes de 63 clases.\n",
      "Ejemplo para la clase '0':\n",
      "/mnt/c/Users/christianr/Downloads/archive/Traffic_dataset/Train/0/00000_00017_00016.png\n",
      "/mnt/c/Users/christianr/Downloads/archive/Traffic_dataset/Train/0/00000_00006_00023.png\n",
      "/mnt/c/Users/christianr/Downloads/archive/Traffic_dataset/Train/0/00000_00031_00002.png\n",
      "/mnt/c/Users/christianr/Downloads/archive/Traffic_dataset/Train/0/00000_00006_00026.png\n",
      "/mnt/c/Users/christianr/Downloads/archive/Traffic_dataset/Train/0/00000_00014_00014.png\n",
      "\n",
      "Ejemplo para la clase '10':\n",
      "/mnt/c/Users/christianr/Downloads/archive/Traffic_dataset/Train/10/00010_00037_00020.png\n",
      "/mnt/c/Users/christianr/Downloads/archive/Traffic_dataset/Train/10/00010_00057_00020.png\n",
      "/mnt/c/Users/christianr/Downloads/archive/Traffic_dataset/Train/10/00010_00072_00000.png\n",
      "/mnt/c/Users/christianr/Downloads/archive/Traffic_dataset/Train/10/00010_00004_00020.png\n",
      "/mnt/c/Users/christianr/Downloads/archive/Traffic_dataset/Train/10/00010_00011_00016.png\n"
     ]
    }
   ],
   "source": [
    "import random\n",
    "\n",
    "def seleccionar_imagenes_aleatorias(dir_train, num_imagenes_por_clase, semilla=2212):\n",
    "    \"\"\"\n",
    "    Selecciona un número aleatorio de imágenes de cada subdirectorio (clase)\n",
    "    en el directorio de entrenamiento especificado.\n",
    "\n",
    "    Args:\n",
    "        dir_train (str): La ruta al directorio 'Train'.\n",
    "        num_imagenes_por_clase (int): El número de imágenes a seleccionar de cada clase.\n",
    "        semilla (int): La semilla para el generador de números aleatorios para reproducibilidad.\n",
    "\n",
    "    Returns:\n",
    "        dict: Un diccionario donde las claves son los nombres de las clases (subdirectorios)\n",
    "              y los valores son listas de rutas a las imágenes seleccionadas.\n",
    "    \"\"\"\n",
    "    random.seed(semilla)\n",
    "    imagenes_seleccionadas = {}\n",
    "    \n",
    "    if not os.path.isdir(dir_train):\n",
    "        print(f\"Error: El directorio '{dir_train}' no existe.\")\n",
    "        return imagenes_seleccionadas\n",
    "\n",
    "    for clase_dir in sorted(os.listdir(dir_train)):\n",
    "        path_clase = os.path.join(dir_train, clase_dir)\n",
    "        \n",
    "        if os.path.isdir(path_clase):\n",
    "            archivos_img = [f for f in os.listdir(path_clase) if f.lower().endswith(('.png', '.jpg', '.jpeg'))]\n",
    "            \n",
    "            if len(archivos_img) < num_imagenes_por_clase:\n",
    "                # Si hay menos imágenes que las solicitadas, se toman todas\n",
    "                seleccion = archivos_img\n",
    "            else:\n",
    "                # Selecciona aleatoriamente el número de imágenes especificado\n",
    "                seleccion = random.sample(archivos_img, num_imagenes_por_clase)\n",
    "            \n",
    "            # Almacena las rutas completas de las imágenes seleccionadas\n",
    "            imagenes_seleccionadas[clase_dir] = [os.path.join(path_clase, img) for img in seleccion]\n",
    "            \n",
    "    return imagenes_seleccionadas\n",
    "\n",
    "# Seleccionamos 5 imágenes por cada clase del directorio Train\n",
    "dir_entrenamiento = os.path.join(dir_base, \"Train\")\n",
    "muestra_imagenes = seleccionar_imagenes_aleatorias(dir_entrenamiento, num_imagenes_por_clase=5, semilla=2212)\n",
    "# Habría que cambiar al número mínimo instancias existentes > Revisar Info encontrada\n",
    "\n",
    "# Imprimir una muestra del resultado para verificar\n",
    "print(f\"Se seleccionaron imágenes de {len(muestra_imagenes)} clases.\")\n",
    "print(\"Ejemplo para la clase '0':\")\n",
    "for ruta_img in muestra_imagenes.get('0', []):\n",
    "    print(ruta_img)\n",
    "\n",
    "print(\"\\nEjemplo para la clase '10':\")\n",
    "for ruta_img in muestra_imagenes.get('10', []):\n",
    "    print(ruta_img)"
   ]
  },
  {
   "cell_type": "code",
   "execution_count": null,
   "id": "122a0e36",
   "metadata": {},
   "outputs": [],
   "source": []
  }
 ],
 "metadata": {
  "kernelspec": {
   "display_name": "dlnlp",
   "language": "python",
   "name": "python3"
  },
  "language_info": {
   "codemirror_mode": {
    "name": "ipython",
    "version": 3
   },
   "file_extension": ".py",
   "mimetype": "text/x-python",
   "name": "python",
   "nbconvert_exporter": "python",
   "pygments_lexer": "ipython3",
   "version": "3.12.7"
  }
 },
 "nbformat": 4,
 "nbformat_minor": 5
}
